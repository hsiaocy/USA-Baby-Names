{
 "cells": [
  {
   "cell_type": "code",
   "execution_count": 1,
   "metadata": {},
   "outputs": [],
   "source": [
    "import numpy as np\n",
    "import pandas as pd\n",
    "import matplotlib.pyplot as plt\n",
    "import sys\n",
    "import warnings\n",
    "warnings.simplefilter(action='ignore', category=UserWarning)"
   ]
  },
  {
   "cell_type": "code",
   "execution_count": 2,
   "metadata": {},
   "outputs": [],
   "source": [
    "# try load a single data to check it\n",
    "names = ['name', 'sex', 'count']\n",
    "test_data = pd.read_csv('./names/yob1880.txt', header=None, names=names, index_col=False)"
   ]
  },
  {
   "cell_type": "code",
   "execution_count": 3,
   "metadata": {
    "scrolled": true
   },
   "outputs": [],
   "source": [
    "year = range(1880, 2018)\n",
    "df = []\n",
    "for y in year:\n",
    "    data_name = './names/yob{}.txt'.format(y)\n",
    "    buffer = pd.read_csv(data_name, header=None, names=names, index_col=False)\n",
    "    buffer['year'] = y  # add year columns\n",
    "    df.append(buffer)\n",
    "df = pd.concat(df, ignore_index=True)"
   ]
  },
  {
   "cell_type": "code",
   "execution_count": 4,
   "metadata": {},
   "outputs": [
    {
     "data": {
      "text/html": [
       "<div>\n",
       "<style scoped>\n",
       "    .dataframe tbody tr th:only-of-type {\n",
       "        vertical-align: middle;\n",
       "    }\n",
       "\n",
       "    .dataframe tbody tr th {\n",
       "        vertical-align: top;\n",
       "    }\n",
       "\n",
       "    .dataframe thead th {\n",
       "        text-align: right;\n",
       "    }\n",
       "</style>\n",
       "<table border=\"1\" class=\"dataframe\">\n",
       "  <thead>\n",
       "    <tr style=\"text-align: right;\">\n",
       "      <th></th>\n",
       "      <th>name</th>\n",
       "      <th>sex</th>\n",
       "      <th>count</th>\n",
       "      <th>year</th>\n",
       "      <th>prop</th>\n",
       "    </tr>\n",
       "  </thead>\n",
       "  <tbody>\n",
       "    <tr>\n",
       "      <th>0</th>\n",
       "      <td>Mary</td>\n",
       "      <td>F</td>\n",
       "      <td>7065</td>\n",
       "      <td>1880</td>\n",
       "      <td>0.077643</td>\n",
       "    </tr>\n",
       "    <tr>\n",
       "      <th>1</th>\n",
       "      <td>Anna</td>\n",
       "      <td>F</td>\n",
       "      <td>2604</td>\n",
       "      <td>1880</td>\n",
       "      <td>0.028618</td>\n",
       "    </tr>\n",
       "    <tr>\n",
       "      <th>2</th>\n",
       "      <td>Emma</td>\n",
       "      <td>F</td>\n",
       "      <td>2003</td>\n",
       "      <td>1880</td>\n",
       "      <td>0.022013</td>\n",
       "    </tr>\n",
       "    <tr>\n",
       "      <th>3</th>\n",
       "      <td>Elizabeth</td>\n",
       "      <td>F</td>\n",
       "      <td>1939</td>\n",
       "      <td>1880</td>\n",
       "      <td>0.021309</td>\n",
       "    </tr>\n",
       "    <tr>\n",
       "      <th>4</th>\n",
       "      <td>Minnie</td>\n",
       "      <td>F</td>\n",
       "      <td>1746</td>\n",
       "      <td>1880</td>\n",
       "      <td>0.019188</td>\n",
       "    </tr>\n",
       "    <tr>\n",
       "      <th>5</th>\n",
       "      <td>Margaret</td>\n",
       "      <td>F</td>\n",
       "      <td>1578</td>\n",
       "      <td>1880</td>\n",
       "      <td>0.017342</td>\n",
       "    </tr>\n",
       "    <tr>\n",
       "      <th>6</th>\n",
       "      <td>Ida</td>\n",
       "      <td>F</td>\n",
       "      <td>1472</td>\n",
       "      <td>1880</td>\n",
       "      <td>0.016177</td>\n",
       "    </tr>\n",
       "    <tr>\n",
       "      <th>7</th>\n",
       "      <td>Alice</td>\n",
       "      <td>F</td>\n",
       "      <td>1414</td>\n",
       "      <td>1880</td>\n",
       "      <td>0.015540</td>\n",
       "    </tr>\n",
       "    <tr>\n",
       "      <th>8</th>\n",
       "      <td>Bertha</td>\n",
       "      <td>F</td>\n",
       "      <td>1320</td>\n",
       "      <td>1880</td>\n",
       "      <td>0.014507</td>\n",
       "    </tr>\n",
       "    <tr>\n",
       "      <th>9</th>\n",
       "      <td>Sarah</td>\n",
       "      <td>F</td>\n",
       "      <td>1288</td>\n",
       "      <td>1880</td>\n",
       "      <td>0.014155</td>\n",
       "    </tr>\n",
       "  </tbody>\n",
       "</table>\n",
       "</div>"
      ],
      "text/plain": [
       "        name sex  count  year      prop\n",
       "0       Mary   F   7065  1880  0.077643\n",
       "1       Anna   F   2604  1880  0.028618\n",
       "2       Emma   F   2003  1880  0.022013\n",
       "3  Elizabeth   F   1939  1880  0.021309\n",
       "4     Minnie   F   1746  1880  0.019188\n",
       "5   Margaret   F   1578  1880  0.017342\n",
       "6        Ida   F   1472  1880  0.016177\n",
       "7      Alice   F   1414  1880  0.015540\n",
       "8     Bertha   F   1320  1880  0.014507\n",
       "9      Sarah   F   1288  1880  0.014155"
      ]
     },
     "execution_count": 4,
     "metadata": {},
     "output_type": "execute_result"
    }
   ],
   "source": [
    "total_births = df.pivot_table('count', index='year', columns='sex', aggfunc=sum)\n",
    "def add_prop(group):\n",
    "    group['prop'] = group['count'] / group['count'].sum()\n",
    "    return group\n",
    "df = df.groupby(['year', 'sex']).apply(add_prop)\n",
    "# After concatenation, the dataframe would be like:\n",
    "df.head(n=10)"
   ]
  },
  {
   "cell_type": "code",
   "execution_count": 5,
   "metadata": {
    "scrolled": true
   },
   "outputs": [
    {
     "data": {
      "image/png": "[encoded data removed]",
      "text/plain": [
       "<Figure size 432x288 with 1 Axes>"
      ]
     },
     "metadata": {
      "needs_background": "light"
     },
     "output_type": "display_data"
    }
   ],
   "source": [
    "# Visualize my friend's name\n",
    "def show_names(df, name, sex='F', plot=False):\n",
    "    try:\n",
    "        n = df.loc[sex].loc[name]\n",
    "        if plot == True:\n",
    "            n.plot(x='year', y='count')\n",
    "            plt.show()\n",
    "\n",
    "    except KeyError:\n",
    "        print(\"Oops: this name '{}' for sex '{}' is not found\".format(name, sex))\n",
    "\n",
    "df1 = df.set_index(['sex', 'name'])\n",
    "show_names(df=df1, name='James', sex='F', plot=True)    \n"
   ]
  },
  {
   "cell_type": "code",
   "execution_count": 6,
   "metadata": {},
   "outputs": [
    {
     "data": {
      "text/html": [
       "<div>\n",
       "<style scoped>\n",
       "    .dataframe tbody tr th:only-of-type {\n",
       "        vertical-align: middle;\n",
       "    }\n",
       "\n",
       "    .dataframe tbody tr th {\n",
       "        vertical-align: top;\n",
       "    }\n",
       "\n",
       "    .dataframe thead th {\n",
       "        text-align: right;\n",
       "    }\n",
       "</style>\n",
       "<table border=\"1\" class=\"dataframe\">\n",
       "  <thead>\n",
       "    <tr style=\"text-align: right;\">\n",
       "      <th></th>\n",
       "      <th>name</th>\n",
       "      <th>sex</th>\n",
       "      <th>count</th>\n",
       "      <th>year</th>\n",
       "      <th>prop</th>\n",
       "      <th>rank</th>\n",
       "    </tr>\n",
       "  </thead>\n",
       "  <tbody>\n",
       "    <tr>\n",
       "      <th>0</th>\n",
       "      <td>Mary</td>\n",
       "      <td>F</td>\n",
       "      <td>7065</td>\n",
       "      <td>1880</td>\n",
       "      <td>0.077643</td>\n",
       "      <td>1.0</td>\n",
       "    </tr>\n",
       "    <tr>\n",
       "      <th>1</th>\n",
       "      <td>Anna</td>\n",
       "      <td>F</td>\n",
       "      <td>2604</td>\n",
       "      <td>1880</td>\n",
       "      <td>0.028618</td>\n",
       "      <td>2.0</td>\n",
       "    </tr>\n",
       "    <tr>\n",
       "      <th>2</th>\n",
       "      <td>Emma</td>\n",
       "      <td>F</td>\n",
       "      <td>2003</td>\n",
       "      <td>1880</td>\n",
       "      <td>0.022013</td>\n",
       "      <td>3.0</td>\n",
       "    </tr>\n",
       "    <tr>\n",
       "      <th>3</th>\n",
       "      <td>Elizabeth</td>\n",
       "      <td>F</td>\n",
       "      <td>1939</td>\n",
       "      <td>1880</td>\n",
       "      <td>0.021309</td>\n",
       "      <td>4.0</td>\n",
       "    </tr>\n",
       "    <tr>\n",
       "      <th>4</th>\n",
       "      <td>Minnie</td>\n",
       "      <td>F</td>\n",
       "      <td>1746</td>\n",
       "      <td>1880</td>\n",
       "      <td>0.019188</td>\n",
       "      <td>5.0</td>\n",
       "    </tr>\n",
       "  </tbody>\n",
       "</table>\n",
       "</div>"
      ],
      "text/plain": [
       "        name sex  count  year      prop  rank\n",
       "0       Mary   F   7065  1880  0.077643   1.0\n",
       "1       Anna   F   2604  1880  0.028618   2.0\n",
       "2       Emma   F   2003  1880  0.022013   3.0\n",
       "3  Elizabeth   F   1939  1880  0.021309   4.0\n",
       "4     Minnie   F   1746  1880  0.019188   5.0"
      ]
     },
     "execution_count": 6,
     "metadata": {},
     "output_type": "execute_result"
    }
   ],
   "source": [
    "def add_rank(group):\n",
    "    group['rank'] = group['count'].rank(ascending=False)\n",
    "    return group\n",
    "df = df.groupby(['sex', 'year']).apply(add_rank)\n",
    "df.head()"
   ]
  },
  {
   "cell_type": "code",
   "execution_count": 7,
   "metadata": {
    "scrolled": false
   },
   "outputs": [
    {
     "name": "stdout",
     "output_type": "stream",
     "text": [
      "Name Allen's' rank of birhts is 787\n"
     ]
    }
   ],
   "source": [
    "def show_rank(df, name, sex='F', year=2000):\n",
    "    try:\n",
    "        rank_df = df[df.year == year][df.sex == sex].drop(columns=['sex', 'year']).set_index('name')\n",
    "        print(\"Name {}'s' rank of birhts is {}\".format(name, int(rank_df.loc[name][0])))\n",
    "    except:\n",
    "        print(\"Oops: this name '{}' in year '{}' is not found\".format(name, year))\n",
    "\n",
    "show_rank(df=df, name='Allen', sex='M', year=2017)"
   ]
  },
  {
   "cell_type": "code",
   "execution_count": 8,
   "metadata": {},
   "outputs": [
    {
     "name": "stdout",
     "output_type": "stream",
     "text": [
      "The worst margin percentage estimation is 5.27% for Allen in 2011\n"
     ]
    }
   ],
   "source": [
    "# To estimate the probable margin percentage \n",
    "def margin_estimation(df, name, year):\n",
    "    df1 = df.set_index('year').loc[[year, year+1]].reset_index()\n",
    "    total_names = df1.name.drop_duplicates().sort_values()\n",
    "    total_names = total_names.reset_index().drop(columns='index')\n",
    "    r = total_names[total_names.name == name].index.values[0]\n",
    "    mpe = round(r/len(total_names)*100, 2)\n",
    "    print(f'The worst margin percentage estimation is {mpe}% for {name} in {year}')\n",
    "margin_estimation(df=df, name='Allen', year=2011)"
   ]
  },
  {
   "cell_type": "code",
   "execution_count": 9,
   "metadata": {
    "scrolled": true
   },
   "outputs": [
    {
     "data": {
      "image/png": "[encoded data removed]",
      "text/plain": [
       "<Figure size 432x288 with 1 Axes>"
      ]
     },
     "metadata": {
      "needs_background": "light"
     },
     "output_type": "display_data"
    }
   ],
   "source": [
    "# Show your boy's name that how many girls use as well\n",
    "def check_gender(df, name, year, plot=False):\n",
    "    df1 = df.set_index('year')\n",
    "    df1 = df1.loc[year].pivot_table(\n",
    "        values='count', index='name', columns='sex', aggfunc='sum', dropna=False).fillna(value=0)\n",
    "    if plot == True:\n",
    "        def autolabel(rects):\n",
    "            \"\"\"\n",
    "            Attach a text label above each bar displaying its height\n",
    "            Refer to: https://stackoverflow.com/questions/30228069/how-to-display-the-value-of-the-bar-on-each-bar-with-pyplot-barh\n",
    "            \"\"\"\n",
    "            for rect in rects:\n",
    "                height = rect.get_height()\n",
    "                ax.text(rect.get_x() + rect.get_width()/2., 1.05*height,\n",
    "                        '%d' % int(height),\n",
    "                        ha='center', va='bottom')\n",
    "            pass\n",
    "\n",
    "        x = list(df1.columns.values)\n",
    "        y = list(df1.loc[name].values)\n",
    "        fig, ax = plt.subplots() \n",
    "        width, ind = .5, np.arange(len(y)) # the width of the bars \n",
    "        ax.set_xticks(ind)\n",
    "        ax.set_xticklabels(('female', 'male'))\n",
    "        plt.title(name)\n",
    "        plt.xlabel('sex')\n",
    "        plt.ylabel('births')\n",
    "        rects1 = ax.bar(ind, y, width, color='navy')\n",
    "        autolabel(rects1)\n",
    "        plt.grid(True, which='major', linestyle=':')\n",
    "        plt.show()\n",
    "    pass\n",
    "\n",
    "year = list(range(1880, 2000))\n",
    "check_gender(df=df, name='Angel', year=year, plot=True)"
   ]
  },
  {
   "cell_type": "code",
   "execution_count": 10,
   "metadata": {},
   "outputs": [
    {
     "name": "stdout",
     "output_type": "stream",
     "text": [
      "Top 10 F names in 2000 are ['Emily' 'Hannah' 'Madison' 'Ashley' 'Sarah' 'Alexis' 'Samantha' 'Jessica'\n",
      " 'Elizabeth' 'Taylor']\n"
     ]
    }
   ],
   "source": [
    "# To rank names and show top N names at a certain year\n",
    "def get_top_nums(group, nums=10):\n",
    "    return group.sort_values(by='prop', ascending=False)[:nums]\n",
    "\n",
    "top_names = df.groupby(['year', 'sex']).apply(get_top_nums)\n",
    "# top_names\n",
    "\n",
    "def give_top_names(year=1880, sex='F'):\n",
    "    return top_names[top_names['year'] == year][top_names['sex'] == sex].name.values\n",
    "\n",
    "# We can simply check ten names in certain year by typing:\n",
    "print('Top 10 {} names in 2000 are {}'.format('F', give_top_names(year=2000, sex='F')))"
   ]
  },
  {
   "cell_type": "code",
   "execution_count": 11,
   "metadata": {
    "scrolled": true
   },
   "outputs": [
    {
     "data": {
      "text/plain": [
       "942       John\n",
       "943    William\n",
       "944      James\n",
       "945    Charles\n",
       "946     George\n",
       "Name: name, dtype: object"
      ]
     },
     "execution_count": 11,
     "metadata": {},
     "output_type": "execute_result"
    }
   ],
   "source": [
    "#TODO: know how many names appeared from 1880 to 2017.\n",
    "m_names = df[df['sex'] == 'M']['name'].drop_duplicates()\n",
    "f_names = df[df['sex'] == 'F']['name'].drop_duplicates()\n",
    "m_names.head() #m_names will show you a set of boys names over 137 years.\n",
    "# print(f'{m_names} male names appeared during 1880 to 2017')\n",
    "# print(f'{f_names} female names appeared during 1880 to 2017')"
   ]
  },
  {
   "cell_type": "code",
   "execution_count": 12,
   "metadata": {},
   "outputs": [
    {
     "name": "stdout",
     "output_type": "stream",
     "text": [
      "1058 male names in 1880, 14160 male names increased in 2017\n",
      "942 female names in 1880, 18309 female names increased in 2017\n"
     ]
    }
   ],
   "source": [
    "_1880_m_names = df[df['sex'] == 'M'][df['year'] == 1880]['name']\n",
    "_1880_f_names = df[df['sex'] == 'F'][df['year'] == 1880]['name']\n",
    "_2017_m_names = df[df['sex'] == 'M'][df['year'] == 2017]['name']\n",
    "_2017_f_names = df[df['sex'] == 'F'][df['year'] == 2017]['name']\n",
    "print('{} male names in 1880, {} male names increased in 2017'.format(len(_1880_m_names), len(_2017_m_names)))\n",
    "print('{} female names in 1880, {} female names increased in 2017'.format(len(_1880_f_names), len(_2017_f_names)))"
   ]
  },
  {
   "cell_type": "code",
   "execution_count": 13,
   "metadata": {},
   "outputs": [],
   "source": [
    "# to find names disappeared \n",
    "buffer = []\n",
    "for n in _1880_m_names.values:\n",
    "    if n not in _2017_m_names.values:\n",
    "        buffer.append(n)\n",
    "# print('These names {} are gone.'.format(buffer))"
   ]
  }
 ],
 "metadata": {
  "kernelspec": {
   "display_name": "Python 3",
   "language": "python",
   "name": "python3"
  },
  "language_info": {
   "codemirror_mode": {
    "name": "ipython",
    "version": 3
   },
   "file_extension": ".py",
   "mimetype": "text/x-python",
   "name": "python",
   "nbconvert_exporter": "python",
   "pygments_lexer": "ipython3",
   "version": "3.6.5"
  }
 },
 "nbformat": 4,
 "nbformat_minor": 2
}
